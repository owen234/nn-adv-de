{
 "cells": [
  {
   "cell_type": "code",
   "execution_count": 1,
   "id": "d2d76edc",
   "metadata": {},
   "outputs": [],
   "source": [
    "import time\n",
    "import numpy as np\n",
    "import pandas as pd\n",
    "import matplotlib.pyplot as plt\n",
    "import matplotlib.ticker as mticker\n",
    "from matplotlib.colors import LogNorm\n",
    "from matplotlib import rc\n",
    "from numpy import inf\n",
    "import os\n",
    "import sys\n",
    "from IPython import display\n",
    "\n",
    "\n",
    "#-- this selects the first GPU\n",
    "os.environ['CUDA_VISIBLE_DEVICES']=\"0\"\n",
    "\n",
    "from os import listdir\n",
    "\n",
    "from pickle import dump\n",
    "from pickle import load\n",
    "\n",
    "import uproot3\n",
    "\n",
    "import matplotlib as mpl\n",
    "\n",
    "from datetime import datetime\n",
    "import subprocess\n"
   ]
  },
  {
   "cell_type": "code",
   "execution_count": 2,
   "id": "ff4c9264",
   "metadata": {},
   "outputs": [
    {
     "name": "stdout",
     "output_type": "stream",
     "text": [
      "[PhysicalDevice(name='/physical_device:CPU:0', device_type='CPU'), PhysicalDevice(name='/physical_device:GPU:0', device_type='GPU')]\n",
      "\n",
      "\n",
      " printing physical devbices from tf.config.list_physical_devices\n",
      "\n",
      "\n",
      "[PhysicalDevice(name='/physical_device:GPU:0', device_type='GPU')]\n",
      "\n",
      "\n",
      " printing devices from device_lib.list_local_devices\n",
      "\n",
      "\n",
      "[name: \"/device:CPU:0\"\n",
      "device_type: \"CPU\"\n",
      "memory_limit: 268435456\n",
      "locality {\n",
      "}\n",
      "incarnation: 12367826736339611945\n",
      "xla_global_id: -1\n",
      ", name: \"/device:GPU:0\"\n",
      "device_type: \"GPU\"\n",
      "memory_limit: 23048290304\n",
      "locality {\n",
      "  bus_id: 1\n",
      "  links {\n",
      "  }\n",
      "}\n",
      "incarnation: 1649931942733911106\n",
      "physical_device_desc: \"device: 0, name: NVIDIA GeForce RTX 3090, pci bus id: 0000:41:00.0, compute capability: 8.6\"\n",
      "xla_global_id: 416903419\n",
      "]\n"
     ]
    },
    {
     "name": "stderr",
     "output_type": "stream",
     "text": [
      "2023-08-14 10:41:25.129639: I tensorflow/compiler/xla/stream_executor/cuda/cuda_gpu_executor.cc:981] successful NUMA node read from SysFS had negative value (-1), but there must be at least one NUMA node, so returning NUMA node zero\n",
      "2023-08-14 10:41:25.147566: I tensorflow/compiler/xla/stream_executor/cuda/cuda_gpu_executor.cc:981] successful NUMA node read from SysFS had negative value (-1), but there must be at least one NUMA node, so returning NUMA node zero\n",
      "2023-08-14 10:41:25.147800: I tensorflow/compiler/xla/stream_executor/cuda/cuda_gpu_executor.cc:981] successful NUMA node read from SysFS had negative value (-1), but there must be at least one NUMA node, so returning NUMA node zero\n",
      "2023-08-14 10:41:25.150613: I tensorflow/compiler/xla/stream_executor/cuda/cuda_gpu_executor.cc:981] successful NUMA node read from SysFS had negative value (-1), but there must be at least one NUMA node, so returning NUMA node zero\n",
      "2023-08-14 10:41:25.150799: I tensorflow/compiler/xla/stream_executor/cuda/cuda_gpu_executor.cc:981] successful NUMA node read from SysFS had negative value (-1), but there must be at least one NUMA node, so returning NUMA node zero\n",
      "2023-08-14 10:41:25.150965: I tensorflow/compiler/xla/stream_executor/cuda/cuda_gpu_executor.cc:981] successful NUMA node read from SysFS had negative value (-1), but there must be at least one NUMA node, so returning NUMA node zero\n",
      "2023-08-14 10:41:25.549177: I tensorflow/compiler/xla/stream_executor/cuda/cuda_gpu_executor.cc:981] successful NUMA node read from SysFS had negative value (-1), but there must be at least one NUMA node, so returning NUMA node zero\n",
      "2023-08-14 10:41:25.549396: I tensorflow/compiler/xla/stream_executor/cuda/cuda_gpu_executor.cc:981] successful NUMA node read from SysFS had negative value (-1), but there must be at least one NUMA node, so returning NUMA node zero\n",
      "2023-08-14 10:41:25.549572: I tensorflow/compiler/xla/stream_executor/cuda/cuda_gpu_executor.cc:981] successful NUMA node read from SysFS had negative value (-1), but there must be at least one NUMA node, so returning NUMA node zero\n",
      "2023-08-14 10:41:25.549725: I tensorflow/core/common_runtime/gpu/gpu_device.cc:1613] Created device /device:GPU:0 with 21980 MB memory:  -> device: 0, name: NVIDIA GeForce RTX 3090, pci bus id: 0000:41:00.0, compute capability: 8.6\n"
     ]
    }
   ],
   "source": [
    "\n",
    "import tensorflow as tf\n",
    "from tensorflow.keras.layers import Input, Dense, Dropout\n",
    "from tensorflow.keras.models import Model, Sequential\n",
    "from tensorflow.keras.losses import Loss, BinaryCrossentropy\n",
    "from sklearn.model_selection import train_test_split\n",
    "from sklearn.preprocessing import StandardScaler\n",
    "\n",
    "\n",
    "from tensorflow.python.client import device_lib\n",
    "\n",
    "from pickle import dump\n",
    "\n",
    "\n",
    "#has_gpu = False\n",
    "\n",
    "has_gpu = True\n",
    "\n",
    "\n",
    "\n",
    "from tensorflow.keras.callbacks import EarlyStopping\n",
    "earlystopping = EarlyStopping(patience=20,\n",
    "               verbose=True,\n",
    "               restore_best_weights=True)\n",
    "\n",
    "import os\n",
    "\n",
    "print(tf.config.list_physical_devices())\n",
    "\n",
    "if has_gpu :\n",
    "    #os.environ['CUDA_VISIBLE_DEVICES']=\"0\"\n",
    "    physical_devices = tf.config.list_physical_devices('GPU') \n",
    "    tf.config.experimental.set_memory_growth(physical_devices[0], True)\n",
    "\n",
    "\n",
    "    print(\"\\n\\n printing physical devbices from tf.config.list_physical_devices\\n\\n\")\n",
    "    print(physical_devices)\n",
    "\n",
    "    devices = device_lib.list_local_devices()\n",
    "\n",
    "    print(\"\\n\\n printing devices from device_lib.list_local_devices\\n\\n\")\n",
    "    print(devices)\n"
   ]
  },
  {
   "cell_type": "markdown",
   "id": "2c755ec9",
   "metadata": {},
   "source": [
    "## Loss function for simple single classifier"
   ]
  },
  {
   "cell_type": "code",
   "execution_count": 3,
   "id": "6ef271ac",
   "metadata": {},
   "outputs": [],
   "source": [
    "bce = tf.keras.losses.BinaryCrossentropy(from_logits=True)\n",
    "\n",
    "def custom_loss_simple(y_true, y_pred):\n",
    "    particle_level = y_pred\n",
    "    loss = bce(y_true,particle_level)  \n",
    "    #tf.print(\"custom_loss_simple : loss \", loss)\n",
    "    #tf.print(\"custom_loss_simple :  y_true \", y_true, \" y_pred \", y_pred )\n",
    "    return loss"
   ]
  },
  {
   "cell_type": "markdown",
   "id": "23587a10",
   "metadata": {},
   "source": [
    "## Loss function for two classifier model, set up for the consistency test (only uses first classifier in loss)"
   ]
  },
  {
   "cell_type": "code",
   "execution_count": 4,
   "id": "f7cccea9",
   "metadata": {},
   "outputs": [],
   "source": [
    "bce = tf.keras.losses.BinaryCrossentropy(from_logits=True)\n",
    "\n",
    "def custom_loss(y_true, y_pred):\n",
    "    particle_level = y_pred[:,0]\n",
    "    detector_level = y_pred[:,1]\n",
    "    loss = bce(y_true,particle_level) \n",
    "    #loss = 0.5*bce(y_true,particle_level) + 0.5*bce(y_true,detector_level) # test for when feeding in 2xpi\n",
    "    #tf.print( \"custom_loss : loss \", loss)\n",
    "    #tf.print( \"custom_loss : y_true \", y_true, \" y_pred \", y_pred )\n",
    "    #loss = bce(y_true,detector_level) \n",
    "    #loss = bce(y_true,particle_level)  + hp_mse_scale * tf.reduce_mean(tf.square(particle_level - detector_level)) \n",
    "    return loss"
   ]
  },
  {
   "cell_type": "code",
   "execution_count": null,
   "id": "3daa3f6d",
   "metadata": {},
   "outputs": [],
   "source": []
  },
  {
   "cell_type": "code",
   "execution_count": null,
   "id": "efc283ed",
   "metadata": {},
   "outputs": [],
   "source": []
  },
  {
   "cell_type": "code",
   "execution_count": null,
   "id": "b7b87b55",
   "metadata": {},
   "outputs": [],
   "source": []
  },
  {
   "cell_type": "code",
   "execution_count": null,
   "id": "9f2eb201",
   "metadata": {},
   "outputs": [],
   "source": []
  },
  {
   "cell_type": "code",
   "execution_count": null,
   "id": "59a351e9",
   "metadata": {},
   "outputs": [],
   "source": []
  },
  {
   "cell_type": "code",
   "execution_count": null,
   "id": "505f6717",
   "metadata": {},
   "outputs": [],
   "source": []
  },
  {
   "cell_type": "code",
   "execution_count": 5,
   "id": "9ca5616d",
   "metadata": {},
   "outputs": [],
   "source": [
    "test_data = np.c_[\n",
    "    [[0.1,0.2,0.3,0.4,0.5,0.6],\n",
    "     [0.11,0.12,0.13,0.14,0.15,0.16]]\n",
    "]"
   ]
  },
  {
   "cell_type": "code",
   "execution_count": 6,
   "id": "3b642399",
   "metadata": {},
   "outputs": [
    {
     "data": {
      "text/plain": [
       "array([[0.1 , 0.2 , 0.3 , 0.4 , 0.5 , 0.6 ],\n",
       "       [0.11, 0.12, 0.13, 0.14, 0.15, 0.16]])"
      ]
     },
     "execution_count": 6,
     "metadata": {},
     "output_type": "execute_result"
    }
   ],
   "source": [
    "test_data"
   ]
  },
  {
   "cell_type": "code",
   "execution_count": null,
   "id": "dac4d16e",
   "metadata": {},
   "outputs": [],
   "source": []
  },
  {
   "cell_type": "code",
   "execution_count": 7,
   "id": "96faf004",
   "metadata": {},
   "outputs": [],
   "source": [
    "test_y = np.c_[ \n",
    "    [[1],\n",
    "     [0] ]\n",
    "]"
   ]
  },
  {
   "cell_type": "code",
   "execution_count": 8,
   "id": "24f2eea1",
   "metadata": {},
   "outputs": [
    {
     "data": {
      "text/plain": [
       "array([[1],\n",
       "       [0]])"
      ]
     },
     "execution_count": 8,
     "metadata": {},
     "output_type": "execute_result"
    }
   ],
   "source": [
    "test_y"
   ]
  },
  {
   "cell_type": "code",
   "execution_count": null,
   "id": "48cdf241",
   "metadata": {},
   "outputs": [],
   "source": []
  },
  {
   "cell_type": "markdown",
   "id": "8c657b1f",
   "metadata": {},
   "source": [
    "## Test of simple single classifier model"
   ]
  },
  {
   "cell_type": "code",
   "execution_count": 9,
   "id": "7032ce54",
   "metadata": {},
   "outputs": [
    {
     "name": "stderr",
     "output_type": "stream",
     "text": [
      "2023-08-14 10:41:25.577808: I tensorflow/compiler/xla/stream_executor/cuda/cuda_gpu_executor.cc:981] successful NUMA node read from SysFS had negative value (-1), but there must be at least one NUMA node, so returning NUMA node zero\n",
      "2023-08-14 10:41:25.578026: I tensorflow/compiler/xla/stream_executor/cuda/cuda_gpu_executor.cc:981] successful NUMA node read from SysFS had negative value (-1), but there must be at least one NUMA node, so returning NUMA node zero\n",
      "2023-08-14 10:41:25.578192: I tensorflow/compiler/xla/stream_executor/cuda/cuda_gpu_executor.cc:981] successful NUMA node read from SysFS had negative value (-1), but there must be at least one NUMA node, so returning NUMA node zero\n",
      "2023-08-14 10:41:25.578392: I tensorflow/compiler/xla/stream_executor/cuda/cuda_gpu_executor.cc:981] successful NUMA node read from SysFS had negative value (-1), but there must be at least one NUMA node, so returning NUMA node zero\n",
      "2023-08-14 10:41:25.578560: I tensorflow/compiler/xla/stream_executor/cuda/cuda_gpu_executor.cc:981] successful NUMA node read from SysFS had negative value (-1), but there must be at least one NUMA node, so returning NUMA node zero\n",
      "2023-08-14 10:41:25.578695: I tensorflow/core/common_runtime/gpu/gpu_device.cc:1613] Created device /job:localhost/replica:0/task:0/device:GPU:0 with 21980 MB memory:  -> device: 0, name: NVIDIA GeForce RTX 3090, pci bus id: 0000:41:00.0, compute capability: 8.6\n"
     ]
    }
   ],
   "source": [
    "n = 3  # Number of features in input.\n",
    "\n",
    "inputs = Input(shape=(2*n,))\n",
    "\n",
    "classifier_nn = Sequential()\n",
    "classifier_nn.add( Dense( 1, activation=\"linear\", input_dim=n) )\n",
    "\n",
    "\n",
    "particle_inputs_model = classifier_nn( inputs[:,0:n] )\n",
    "\n",
    "\n",
    "output = particle_inputs_model\n",
    "\n",
    "\n",
    "mymodel = Model( inputs=[inputs], outputs=[output])\n",
    "\n",
    "learning_rate_setval=1e-3\n",
    "opt_adam = tf.keras.optimizers.Adam(learning_rate=learning_rate_setval, amsgrad=False )\n",
    "\n",
    "mymodel.compile( loss=custom_loss_simple, optimizer=opt_adam, metrics=['accuracy'] )\n"
   ]
  },
  {
   "cell_type": "code",
   "execution_count": null,
   "id": "5543adce",
   "metadata": {},
   "outputs": [],
   "source": []
  },
  {
   "cell_type": "code",
   "execution_count": 10,
   "id": "bd8d19d9",
   "metadata": {},
   "outputs": [
    {
     "name": "stdout",
     "output_type": "stream",
     "text": [
      "[array([[-0.35084003],\n",
      "       [-0.24733382],\n",
      "       [-0.01587522]], dtype=float32), array([0.], dtype=float32)]\n"
     ]
    }
   ],
   "source": [
    "weights = mymodel.get_weights()\n",
    "print(weights)"
   ]
  },
  {
   "cell_type": "code",
   "execution_count": 11,
   "id": "22b18aa9",
   "metadata": {},
   "outputs": [
    {
     "name": "stdout",
     "output_type": "stream",
     "text": [
      "[array([[1.],\n",
      "       [1.],\n",
      "       [1.]], dtype=float32), array([0.], dtype=float32)]\n"
     ]
    }
   ],
   "source": [
    "weights[0][0][0] = 1\n",
    "weights[0][1][0] = 1\n",
    "weights[0][2][0] = 1\n",
    "print(weights)"
   ]
  },
  {
   "cell_type": "code",
   "execution_count": 12,
   "id": "bc1b9d6e",
   "metadata": {},
   "outputs": [],
   "source": [
    "mymodel.set_weights(weights)"
   ]
  },
  {
   "cell_type": "code",
   "execution_count": 13,
   "id": "7f6c2831",
   "metadata": {},
   "outputs": [
    {
     "data": {
      "text/plain": [
       "[array([[1.],\n",
       "        [1.],\n",
       "        [1.]], dtype=float32),\n",
       " array([0.], dtype=float32)]"
      ]
     },
     "execution_count": 13,
     "metadata": {},
     "output_type": "execute_result"
    }
   ],
   "source": [
    "mymodel.get_weights()"
   ]
  },
  {
   "cell_type": "code",
   "execution_count": null,
   "id": "3520dc59",
   "metadata": {},
   "outputs": [],
   "source": []
  },
  {
   "cell_type": "code",
   "execution_count": null,
   "id": "9f52ea6a",
   "metadata": {},
   "outputs": [],
   "source": []
  },
  {
   "cell_type": "code",
   "execution_count": 33,
   "id": "0c6a6895",
   "metadata": {},
   "outputs": [
    {
     "name": "stdout",
     "output_type": "stream",
     "text": [
      "tf.Tensor(\n",
      "[[0.6       ]\n",
      " [0.35999998]], shape=(2, 1), dtype=float32)\n"
     ]
    }
   ],
   "source": [
    "output=mymodel(test_data)\n",
    "print(output)"
   ]
  },
  {
   "cell_type": "code",
   "execution_count": null,
   "id": "13445184",
   "metadata": {},
   "outputs": [],
   "source": []
  },
  {
   "cell_type": "code",
   "execution_count": 25,
   "id": "9e9d3721",
   "metadata": {},
   "outputs": [
    {
     "name": "stdout",
     "output_type": "stream",
     "text": [
      " Checksums  0.6000000000000001  and  0.36\n"
     ]
    }
   ],
   "source": [
    "checksum0 = test_data[0][0] + test_data[0][1] + test_data[0][2]\n",
    "checksum1 = test_data[1][0] + test_data[1][1] + test_data[1][2]\n",
    "print(\" Checksums \", checksum0, \" and \", checksum1)"
   ]
  },
  {
   "cell_type": "code",
   "execution_count": null,
   "id": "7a0ed8be",
   "metadata": {},
   "outputs": [],
   "source": []
  },
  {
   "cell_type": "code",
   "execution_count": null,
   "id": "27fc421b",
   "metadata": {},
   "outputs": [],
   "source": []
  },
  {
   "cell_type": "code",
   "execution_count": 15,
   "id": "90633b63",
   "metadata": {},
   "outputs": [
    {
     "name": "stdout",
     "output_type": "stream",
     "text": [
      "1/1 [==============================] - 0s 137ms/step - loss: 0.6634 - accuracy: 1.0000\n"
     ]
    },
    {
     "data": {
      "text/plain": [
       "[0.6633741855621338, 1.0]"
      ]
     },
     "execution_count": 15,
     "metadata": {},
     "output_type": "execute_result"
    }
   ],
   "source": [
    "mymodel.evaluate(test_data,test_y)"
   ]
  },
  {
   "cell_type": "code",
   "execution_count": 45,
   "id": "f521521a",
   "metadata": {},
   "outputs": [
    {
     "data": {
      "text/plain": [
       "<tf.Tensor: shape=(), dtype=float32, numpy=0.6633742>"
      ]
     },
     "execution_count": 45,
     "metadata": {},
     "output_type": "execute_result"
    }
   ],
   "source": [
    "bce(test_y,output)"
   ]
  },
  {
   "cell_type": "code",
   "execution_count": 48,
   "id": "d47d73d4",
   "metadata": {},
   "outputs": [
    {
     "data": {
      "text/plain": [
       "<tf.Tensor: shape=(), dtype=float32, numpy=0.6633742>"
      ]
     },
     "execution_count": 48,
     "metadata": {},
     "output_type": "execute_result"
    }
   ],
   "source": [
    "custom_loss_simple(test_y,output)"
   ]
  },
  {
   "cell_type": "code",
   "execution_count": null,
   "id": "87ab2885",
   "metadata": {},
   "outputs": [],
   "source": []
  },
  {
   "cell_type": "code",
   "execution_count": 54,
   "id": "ec4b3da2",
   "metadata": {},
   "outputs": [
    {
     "data": {
      "text/plain": [
       "<tf.Tensor: shape=(2, 1), dtype=float32, numpy=\n",
       "array([[0.6       ],\n",
       "       [0.35999998]], dtype=float32)>"
      ]
     },
     "execution_count": 54,
     "metadata": {},
     "output_type": "execute_result"
    }
   ],
   "source": [
    "output"
   ]
  },
  {
   "cell_type": "code",
   "execution_count": 59,
   "id": "517834f8",
   "metadata": {},
   "outputs": [
    {
     "name": "stdout",
     "output_type": "stream",
     "text": [
      " calculated BCE :   [0.47855616]\n"
     ]
    }
   ],
   "source": [
    "\n",
    "term_0 = test_y * np.log(output + 1e-7)\n",
    "term_1 = (1-test_y) * np.log(1-output + 1e-7)\n",
    "bce_calc = -np.mean(term_0+term_1, axis=0)\n",
    "print(\" calculated BCE :  \", bce_calc)"
   ]
  },
  {
   "cell_type": "markdown",
   "id": "5f766912",
   "metadata": {},
   "source": [
    "### Why does the by-hand calculation of BCE not agree with the tf function?"
   ]
  },
  {
   "cell_type": "code",
   "execution_count": null,
   "id": "4a1a8226",
   "metadata": {},
   "outputs": [],
   "source": []
  },
  {
   "cell_type": "code",
   "execution_count": null,
   "id": "54f6b54c",
   "metadata": {},
   "outputs": [],
   "source": []
  },
  {
   "cell_type": "code",
   "execution_count": null,
   "id": "d3a373d0",
   "metadata": {},
   "outputs": [],
   "source": []
  },
  {
   "cell_type": "markdown",
   "id": "83b89ffa",
   "metadata": {},
   "source": [
    "## Test of two classifier model"
   ]
  },
  {
   "cell_type": "code",
   "execution_count": 16,
   "id": "8546f6d1",
   "metadata": {},
   "outputs": [],
   "source": [
    "n = 3  # Number of features in input.\n",
    "\n",
    "inputs = Input(shape=(2*n,))\n",
    "\n",
    "classifier_nn = Sequential()\n",
    "classifier_nn.add( Dense( 1, activation=\"linear\", input_dim=n) )\n",
    "\n",
    "\n",
    "particle_inputs_model2 = classifier_nn( inputs[:,0:n] )\n",
    "detector_inputs_model2 = classifier_nn( inputs[:,n:] )\n",
    "\n",
    "output2 = tf.stack( [particle_inputs_model2, detector_inputs_model2], axis=1)\n",
    "\n",
    "\n",
    "mymodel2 = Model( inputs=[inputs], outputs=[output2])\n",
    "\n",
    "learning_rate_setval=1e-3\n",
    "opt_adam = tf.keras.optimizers.Adam(learning_rate=learning_rate_setval, amsgrad=False )\n",
    "\n",
    "mymodel2.compile( loss=custom_loss, optimizer=opt_adam, metrics=['accuracy'] )\n"
   ]
  },
  {
   "cell_type": "code",
   "execution_count": null,
   "id": "3af121cd",
   "metadata": {},
   "outputs": [],
   "source": []
  },
  {
   "cell_type": "code",
   "execution_count": 17,
   "id": "428439f3",
   "metadata": {},
   "outputs": [
    {
     "name": "stdout",
     "output_type": "stream",
     "text": [
      "[array([[-0.6719996],\n",
      "       [ 0.9788033],\n",
      "       [ 1.1561435]], dtype=float32), array([0.], dtype=float32)]\n"
     ]
    }
   ],
   "source": [
    "weights2=mymodel2.get_weights()\n",
    "print(weights2)"
   ]
  },
  {
   "cell_type": "code",
   "execution_count": 18,
   "id": "2ed5a513",
   "metadata": {},
   "outputs": [
    {
     "name": "stdout",
     "output_type": "stream",
     "text": [
      "[array([[1.],\n",
      "       [1.],\n",
      "       [1.]], dtype=float32), array([0.], dtype=float32)]\n"
     ]
    }
   ],
   "source": [
    "weights2[0][0][0] = 1\n",
    "weights2[0][1][0] = 1\n",
    "weights2[0][2][0] = 1\n",
    "print(weights2)"
   ]
  },
  {
   "cell_type": "code",
   "execution_count": 19,
   "id": "64acee2f",
   "metadata": {},
   "outputs": [],
   "source": [
    "mymodel2.set_weights(weights2)"
   ]
  },
  {
   "cell_type": "code",
   "execution_count": 20,
   "id": "21e624bc",
   "metadata": {},
   "outputs": [
    {
     "data": {
      "text/plain": [
       "[array([[1.],\n",
       "        [1.],\n",
       "        [1.]], dtype=float32),\n",
       " array([0.], dtype=float32)]"
      ]
     },
     "execution_count": 20,
     "metadata": {},
     "output_type": "execute_result"
    }
   ],
   "source": [
    "mymodel2.get_weights()"
   ]
  },
  {
   "cell_type": "code",
   "execution_count": null,
   "id": "e7a48151",
   "metadata": {},
   "outputs": [],
   "source": []
  },
  {
   "cell_type": "code",
   "execution_count": 21,
   "id": "047fa6aa",
   "metadata": {},
   "outputs": [
    {
     "name": "stdout",
     "output_type": "stream",
     "text": [
      "tf.Tensor(\n",
      "[[[0.6       ]\n",
      "  [1.5       ]]\n",
      "\n",
      " [[0.35999998]\n",
      "  [0.45000002]]], shape=(2, 2, 1), dtype=float32)\n"
     ]
    }
   ],
   "source": [
    "output2=mymodel2(test_data)\n",
    "print(output2)"
   ]
  },
  {
   "cell_type": "code",
   "execution_count": null,
   "id": "873a26a7",
   "metadata": {},
   "outputs": [],
   "source": []
  },
  {
   "cell_type": "code",
   "execution_count": 27,
   "id": "16836cd6",
   "metadata": {},
   "outputs": [
    {
     "name": "stdout",
     "output_type": "stream",
     "text": [
      " Checksums for network a  0.6000000000000001  and  0.36\n",
      " Checksums for network b  1.5  and  0.45000000000000007\n"
     ]
    }
   ],
   "source": [
    "checksum0a = test_data[0][0] + test_data[0][1] + test_data[0][2]\n",
    "checksum1a = test_data[1][0] + test_data[1][1] + test_data[1][2]\n",
    "print(\" Checksums for network a \", checksum0a, \" and \", checksum1a)\n",
    "\n",
    "checksum0b = test_data[0][3] + test_data[0][4] + test_data[0][5]\n",
    "checksum1b = test_data[1][3] + test_data[1][4] + test_data[1][5]\n",
    "print(\" Checksums for network b \", checksum0b, \" and \", checksum1b)"
   ]
  },
  {
   "cell_type": "code",
   "execution_count": null,
   "id": "dd452e3b",
   "metadata": {},
   "outputs": [],
   "source": []
  },
  {
   "cell_type": "code",
   "execution_count": null,
   "id": "bf9ed9c5",
   "metadata": {},
   "outputs": [],
   "source": []
  },
  {
   "cell_type": "code",
   "execution_count": 28,
   "id": "05d8005d",
   "metadata": {},
   "outputs": [
    {
     "name": "stdout",
     "output_type": "stream",
     "text": [
      "1/1 [==============================] - 0s 17ms/step - loss: 0.6634 - accuracy: 1.0000\n"
     ]
    },
    {
     "data": {
      "text/plain": [
       "[0.6633741855621338, 1.0]"
      ]
     },
     "execution_count": 28,
     "metadata": {},
     "output_type": "execute_result"
    }
   ],
   "source": [
    "mymodel2.evaluate(test_data,test_y)"
   ]
  },
  {
   "cell_type": "code",
   "execution_count": 47,
   "id": "5bfd759f",
   "metadata": {},
   "outputs": [
    {
     "data": {
      "text/plain": [
       "<tf.Tensor: shape=(), dtype=float32, numpy=0.6633742>"
      ]
     },
     "execution_count": 47,
     "metadata": {},
     "output_type": "execute_result"
    }
   ],
   "source": [
    "custom_loss(test_y,output2)"
   ]
  },
  {
   "cell_type": "code",
   "execution_count": null,
   "id": "26c5db6c",
   "metadata": {},
   "outputs": [],
   "source": []
  },
  {
   "cell_type": "code",
   "execution_count": null,
   "id": "87fed8ae",
   "metadata": {},
   "outputs": [],
   "source": []
  },
  {
   "cell_type": "code",
   "execution_count": null,
   "id": "b95ac1f9",
   "metadata": {},
   "outputs": [],
   "source": []
  }
 ],
 "metadata": {
  "kernelspec": {
   "display_name": "Python 3 (ipykernel)",
   "language": "python",
   "name": "python3"
  },
  "language_info": {
   "codemirror_mode": {
    "name": "ipython",
    "version": 3
   },
   "file_extension": ".py",
   "mimetype": "text/x-python",
   "name": "python",
   "nbconvert_exporter": "python",
   "pygments_lexer": "ipython3",
   "version": "3.10.12"
  }
 },
 "nbformat": 4,
 "nbformat_minor": 5
}
